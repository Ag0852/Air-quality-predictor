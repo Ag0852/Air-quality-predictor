{
 "cells": [
  {
   "cell_type": "markdown",
   "id": "a9971ce8",
   "metadata": {},
   "source": [
    "# 🌬️ Air Quality Predictor: PM2.5 Forecast Using Machine Learning\n",
    "This Colab notebook helps you train an ML model to predict PM2.5 air pollution levels based on historical data and weather conditions.\n",
    "\n",
    "**Author**: [Your Name]  \n",
    "**Date**: 2025-07-03  \n",
    "**Tools**: Python, Pandas, Scikit-learn, XGBoost  \n",
    "**Data Source**: U.S. EPA AQS + Weather API  \n"
   ]
  },
  {
   "cell_type": "code",
   "execution_count": null,
   "id": "df65092a",
   "metadata": {},
   "outputs": [],
   "source": [
    "!pip install xgboost pandas matplotlib scikit-learn --quiet\n"
   ]
  },
  {
   "cell_type": "code",
   "execution_count": null,
   "id": "e3421cb7",
   "metadata": {},
   "outputs": [],
   "source": [
    "import pandas as pd\n",
    "import numpy as np\n",
    "import matplotlib.pyplot as plt\n",
    "from sklearn.model_selection import train_test_split\n",
    "from sklearn.metrics import mean_squared_error, r2_score\n",
    "import xgboost as xgb\n"
   ]
  },
  {
   "cell_type": "code",
   "execution_count": null,
   "id": "a5d073cd",
   "metadata": {},
   "outputs": [],
   "source": [
    "# Replace with actual CSV paths or EPA data links\n",
    "# Example: \"https://example.com/pm25_data.csv\"\n",
    "pm25_df = pd.read_csv('YOUR_PM25_DATA.csv')\n",
    "weather_df = pd.read_csv('YOUR_WEATHER_DATA.csv')\n",
    "\n",
    "# Merge data on date or timestamp\n",
    "df = pd.merge(pm25_df, weather_df, on='date')\n",
    "df.head()\n"
   ]
  },
  {
   "cell_type": "code",
   "execution_count": null,
   "id": "d4d34881",
   "metadata": {},
   "outputs": [],
   "source": [
    "# Convert date to datetime and sort\n",
    "df['date'] = pd.to_datetime(df['date'])\n",
    "df.sort_values('date', inplace=True)\n",
    "\n",
    "# Fill missing values\n",
    "df.fillna(method='ffill', inplace=True)\n",
    "\n",
    "# Create new features\n",
    "df['pm25_3day_avg'] = df['pm25'].rolling(window=3).mean()\n",
    "df['temp_change'] = df['temperature'].diff()\n",
    "\n",
    "# Drop rows with missing values from rolling mean\n",
    "df = df.dropna()\n",
    "\n",
    "features = ['temperature', ' 'humidity', 'wind_speed', 'pm25_3day_avg', 'temp_change']\n",
    "target = 'pm25'\n",
    "\n",
    "X = df[features]\n",
    "y = df[target]\n"
   ]
  },
  {
   "cell_type": "code",
   "execution_count": null,
   "id": "d0ac0d17",
   "metadata": {},
   "outputs": [],
   "source": [
    "X_train, X_test, y_train, y_test = train_test_split(X, y, test_size=0.2, random_state=42)\n",
    "\n",
    "model = xgb.XGBRegressor(objective='reg:squarederror')\n",
    "model.fit(X_train, y_train)\n",
    "\n",
    "y_pred = model.predict(X_test)\n",
    "rmse = np.sqrt(mean_squared_error(y_test, y_pred))\n",
    "r2 = r2_score(y_test, y_pred)\n",
    "\n",
    "print(\"RMSE:\", rmse)\n",
    "print(\"R^2 Score:\", r2)\n"
   ]
  },
  {
   "cell_type": "code",
   "execution_count": null,
   "id": "2ed0fa17",
   "metadata": {},
   "outputs": [],
   "source": [
    "plt.figure(figsize=(10, 5))\n",
    "plt.plot(y_test.values, label='Actual PM2.5')\n",
    "plt.plot(y_pred, label='Predicted PM2.5')\n",
    "plt.legend()\n",
    "plt.title('Actual vs Predicted PM2.5')\n",
    "plt.xlabel('Sample')\n",
    "plt.ylabel('PM2.5')\n",
    "plt.show()\n"
   ]
  },
  {
   "cell_type": "markdown",
   "id": "d316cc8e",
   "metadata": {},
   "source": [
    "## 🖥️ Gradio Web App Interface"
   ]
  },
  {
   "cell_type": "code",
   "execution_count": null,
   "id": "cec392a2",
   "metadata": {},
   "outputs": [],
   "source": [
    "# Gradio interface for real-time predictions\n",
    "import gradio as gr\n",
    "\n",
    "def predict_pm25(temp, humidity, wind_speed, pm25_yesterday, temp_change):\n",
    "    features = [[temp, humidity, wind_speed, pm25_yesterday, temp_change]]\n",
    "    prediction = model.predict(features)[0]\n",
    "    return round(prediction, 2)\n",
    "\n",
    "interface = gr.Interface(\n",
    "    fn=predict_pm25,\n",
    "    inputs=[\n",
    "        gr.Number(label=\"Temperature (°C)\"),\n",
    "        gr.Number(label=\"Humidity (%)\"),\n",
    "        gr.Number(label=\"Wind Speed (m/s)\"),\n",
    "        gr.Number(label=\"Yesterday's PM2.5\"),\n",
    "        gr.Number(label=\"Temperature Change\")\n",
    "    ],\n",
    "    outputs=gr.Number(label=\"Predicted PM2.5\"),\n",
    "    title=\"🌬️ PM2.5 Forecast Predictor\",\n",
    "    description=\"Enter today's conditions to forecast tomorrow's air pollution level (PM2.5).\"\n",
    ")\n",
    "\n",
    "interface.launch()\n"
   ]
  }
 ],
 "metadata": {},
 "nbformat": 4,
 "nbformat_minor": 5
}
